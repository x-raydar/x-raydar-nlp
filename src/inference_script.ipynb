{
 "cells": [
  {
   "cell_type": "code",
   "execution_count": 1,
   "id": "ef1f4154",
   "metadata": {},
   "outputs": [],
   "source": [
    "# Sample inference script for calling model on a test report"
   ]
  },
  {
   "cell_type": "code",
   "execution_count": 2,
   "id": "8bf10e79",
   "metadata": {},
   "outputs": [],
   "source": [
    "import sys, os.path\n",
    "sys.path.append(os.path.abspath(\".\"))\n",
    "import predict"
   ]
  },
  {
   "cell_type": "code",
   "execution_count": 3,
   "id": "70cd20ec",
   "metadata": {},
   "outputs": [
    {
     "name": "stderr",
     "output_type": "stream",
     "text": [
      "You are using a model of type bert to instantiate a model of type roberta. This is not supported for all configurations of models and can yield errors.\n",
      "Some weights of the model checkpoint at ./model/robertax_pretrained/ were not used when initializing RobertaForMultiLabelSequenceClassification: ['lm_head.layer_norm.weight', 'lm_head.dense.bias', 'lm_head.dense.weight', 'lm_head.layer_norm.bias', 'lm_head.bias', 'lm_head.decoder.bias', 'lm_head.decoder.weight']\n",
      "- This IS expected if you are initializing RobertaForMultiLabelSequenceClassification from the checkpoint of a model trained on another task or with another architecture (e.g. initializing a BertForSequenceClassification model from a BertForPreTraining model).\n",
      "- This IS NOT expected if you are initializing RobertaForMultiLabelSequenceClassification from the checkpoint of a model that you expect to be exactly identical (initializing a BertForSequenceClassification model from a BertForSequenceClassification model).\n",
      "Some weights of RobertaForMultiLabelSequenceClassification were not initialized from the model checkpoint at ./model/robertax_pretrained/ and are newly initialized: ['classifier.dense.bias', 'classifier.dense.weight', 'classifier.out_proj.weight', 'classifier.out_proj.bias']\n",
      "You should probably TRAIN this model on a down-stream task to be able to use it for predictions and inference.\n",
      "The tokenizer class you load from this checkpoint is not the same type as the class this function is called from. It may result in unexpected tokenization. \n",
      "The tokenizer class you load from this checkpoint is 'BertTokenizer'. \n",
      "The class this function is called from is 'RobertaTokenizer'.\n"
     ]
    },
    {
     "name": "stdout",
     "output_type": "stream",
     "text": [
      "INFO: Model RoBERTaX ready\n"
     ]
    }
   ],
   "source": [
    "model, tokenizer = predict.build_model()"
   ]
  },
  {
   "cell_type": "code",
   "execution_count": 4,
   "id": "01ca2018",
   "metadata": {},
   "outputs": [],
   "source": [
    "filename = '../demo_data/test1.txt'\n",
    "\n",
    "with open(filename) as file:\n",
    "    report = file.read()\n",
    "    input_ids, attention_masks = predict.doc_to_torch([report], tokenizer)\n",
    "    predictions = predict.main(input_ids, attention_masks, model)"
   ]
  },
  {
   "cell_type": "code",
   "execution_count": 5,
   "id": "fd174022",
   "metadata": {},
   "outputs": [
    {
     "data": {
      "text/plain": [
       "{'abnormal_non_clinically_important': 0.45643484592437744,\n",
       " 'aortic_calcification': 0.0005775478784926236,\n",
       " 'apical_fibrosis': 0.0010247525060549378,\n",
       " 'atelectasis': 0.014386871829628944,\n",
       " 'axillary_abnormality': 0.001891174353659153,\n",
       " 'bronchial_wall_thickening': 0.0002758934278972447,\n",
       " 'bulla': 0.00019000182510353625,\n",
       " 'cardiomegaly': 0.9986341595649719,\n",
       " 'cavitating_lung_lesion': 2.1161666154512204e-05,\n",
       " 'clavicle_fracture': 0.00010355526319472119,\n",
       " 'comparison': 0.017354866489768028,\n",
       " 'consolidation': 0.0011055244831368327,\n",
       " 'coronary_calcification': 0.004826074466109276,\n",
       " 'dextrocardia': 0.00013940964709036052,\n",
       " 'dilated_bowel': 0.0009259096113964915,\n",
       " 'emphysema': 0.000608407543040812,\n",
       " 'ground_glass_opacification': 0.00012684754619840533,\n",
       " 'hemidiaphragm_elevated': 0.001268525142222643,\n",
       " 'hernia': 0.05863247811794281,\n",
       " 'hyperexpanded_lungs': 0.00017196396947838366,\n",
       " 'interstitial_shadowing': 0.007879327051341534,\n",
       " 'mediastinum_displaced': 0.00013271503848955035,\n",
       " 'mediastinum_widened': 0.004569791257381439,\n",
       " 'normal': 0.903332531452179,\n",
       " 'object': 0.00012045008043060079,\n",
       " 'other': 0.01106937788426876,\n",
       " 'paraspinal_mass': 0.00012253639579284936,\n",
       " 'paratracheal_hilar_enlargement': 0.0023230265360325575,\n",
       " 'parenchymal_lesion': 0.00014413763710763305,\n",
       " 'pleural_abnormality': 0.003198993392288685,\n",
       " 'pleural_effusion': 0.008043819107115269,\n",
       " 'pneumomediastinum': 0.0006743042613379657,\n",
       " 'pneumoperitoneum': 6.352207128657028e-05,\n",
       " 'pneumothorax': 8.295596489915624e-05,\n",
       " 'possible_diagnosis': 0.053118959069252014,\n",
       " 'recommendation': 0.0009705574484542012,\n",
       " 'rib_fracture': 9.773665078682825e-05,\n",
       " 'rib_lesion': 0.00034608246642164886,\n",
       " 'scoliosis': 0.00011173914390383288,\n",
       " 'subcutaneous_emphysema': 8.291207632282749e-05,\n",
       " 'technical_issue': 0.000743198033887893,\n",
       " 'undefined_sentence': 0.011177536100149155,\n",
       " 'unfolded_aorta': 7.954850298119709e-05,\n",
       " 'upper_lobe_blood_diversion': 0.0005363520467653871,\n",
       " 'volume_loss': 0.00012394315854180604}"
      ]
     },
     "execution_count": 5,
     "metadata": {},
     "output_type": "execute_result"
    }
   ],
   "source": [
    "predictions"
   ]
  }
 ],
 "metadata": {
  "kernelspec": {
   "display_name": "Python 3 (ipykernel)",
   "language": "python",
   "name": "python3"
  },
  "language_info": {
   "codemirror_mode": {
    "name": "ipython",
    "version": 3
   },
   "file_extension": ".py",
   "mimetype": "text/x-python",
   "name": "python",
   "nbconvert_exporter": "python",
   "pygments_lexer": "ipython3",
   "version": "3.9.13"
  }
 },
 "nbformat": 4,
 "nbformat_minor": 5
}
